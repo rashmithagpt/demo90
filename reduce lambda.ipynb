{
 "cells": [
  {
   "cell_type": "code",
   "execution_count": 10,
   "id": "c2200977",
   "metadata": {},
   "outputs": [
    {
     "ename": "IndentationError",
     "evalue": "unindent does not match any outer indentation level (<tokenize>, line 3)",
     "output_type": "error",
     "traceback": [
      "\u001b[1;36m  File \u001b[1;32m<tokenize>:3\u001b[1;36m\u001b[0m\n\u001b[1;33m    fruit=[\"Apple\",\"Banana\",\"Pear\",\"Apricot\",\"Orange\"]\u001b[0m\n\u001b[1;37m    ^\u001b[0m\n\u001b[1;31mIndentationError\u001b[0m\u001b[1;31m:\u001b[0m unindent does not match any outer indentation level\n"
     ]
    }
   ],
   "source": [
    "def Start_with_A(s):\n",
    "      return s[0]=\"A\"\n",
    "    fruit=[\"Apple\",\"Banana\",\"Pear\",\"Apricot\",\"Orange\"]\n",
    "    map_object=map(Start_with_A,fruit)\n",
    "    print(list(map_object))"
   ]
  },
  {
   "cell_type": "code",
   "execution_count": 16,
   "id": "9959ffe3",
   "metadata": {},
   "outputs": [
    {
     "name": "stdout",
     "output_type": "stream",
     "text": [
      "[True, False, False, True, False]\n"
     ]
    }
   ],
   "source": [
    "def Start_with_A(s):\n",
    "      return s[0]==\"A\"\n",
    "fruit=[\"Apple\",\"Banana\",\"Pear\",\"Apricot\",\"Orange\"]\n",
    "map_object=map(Start_with_A,fruit)\n",
    "print(list(map_object))"
   ]
  },
  {
   "cell_type": "code",
   "execution_count": 17,
   "id": "7446d97d",
   "metadata": {},
   "outputs": [
    {
     "name": "stdout",
     "output_type": "stream",
     "text": [
      "[True, False, False, True, False]\n"
     ]
    }
   ],
   "source": [
    "fruit=[\"Apple\",\"Banana\",\"pear\",\"Apricot\",\"orange\"]\n",
    "map_object=map(lambda s:s[0]==\"A\",fruit)\n",
    "print(list(map_object))\n"
   ]
  },
  {
   "cell_type": "code",
   "execution_count": 18,
   "id": "691c1ef4",
   "metadata": {},
   "outputs": [
    {
     "name": "stdout",
     "output_type": "stream",
     "text": [
      "['Apple', 'Apricot']\n"
     ]
    }
   ],
   "source": [
    "def Starts_with_A(s):\n",
    "    return s[0]==\"A\"\n",
    "fruit=[\"Apple\",\"Banana\",\"Pear\",\"Apricot\",\"Orange\"]\n",
    "filter_object=filter(Starts_with_A,fruit)\n",
    "print(list(filter_object))"
   ]
  },
  {
   "cell_type": "code",
   "execution_count": 20,
   "id": "0939cd78",
   "metadata": {},
   "outputs": [
    {
     "name": "stdout",
     "output_type": "stream",
     "text": [
      "['Apple', 'Apricot']\n"
     ]
    }
   ],
   "source": [
    "fruit=[\"Apple\",\"Banana\",\"Pear\",\"Apricot\",\"Orange\"]\n",
    "filter_object=filter(lambda s:s[0]==\"A\",fruit)\n",
    "print(list(filter_object))"
   ]
  },
  {
   "cell_type": "code",
   "execution_count": 30,
   "id": "1a4b8bf3",
   "metadata": {},
   "outputs": [
    {
     "name": "stdout",
     "output_type": "stream",
     "text": [
      "16\n"
     ]
    }
   ],
   "source": [
    "from functools import reduce\n",
    "def add(x,y):\n",
    "     return x+y\n",
    "list=[2,4,7,3]\n",
    "print(reduce(add,list))"
   ]
  },
  {
   "cell_type": "code",
   "execution_count": 32,
   "id": "05a5bd6e",
   "metadata": {},
   "outputs": [
    {
     "name": "stdout",
     "output_type": "stream",
     "text": [
      "16\n",
      "withan inital value:26\n"
     ]
    }
   ],
   "source": [
    "from functools import reduce\n",
    "list=[2,4,7,3]\n",
    "print(reduce(lambda x,y:x+y,list))\n",
    "print(\"withan inital value:\"+str(reduce(lambda x,y:x+y,list,10)))"
   ]
  },
  {
   "cell_type": "code",
   "execution_count": 33,
   "id": "37b748b7",
   "metadata": {},
   "outputs": [
    {
     "name": "stdout",
     "output_type": "stream",
     "text": [
      "  Subject  amount\n",
      "0  python    1000\n",
      "1    java    2000\n"
     ]
    }
   ],
   "source": [
    "import pandas as pd\n",
    "from operator import add\n",
    "from functools import reduce\n",
    "coding={'Subject':['python','java'],'amount':[1000,2000]}\n",
    "df=pd.DataFrame(coding)\n",
    "print(df)"
   ]
  },
  {
   "cell_type": "code",
   "execution_count": 34,
   "id": "c1f65873",
   "metadata": {},
   "outputs": [
    {
     "name": "stdout",
     "output_type": "stream",
     "text": [
      "\n",
      " map operation to multiply amount 2\n",
      "\n",
      "  Subject  amount\n",
      "0  python    2000\n",
      "1    java    4000\n",
      "\n",
      "\n"
     ]
    }
   ],
   "source": [
    "print(\"\\n map operation to multiply amount 2\\n\")\n",
    "df['amount']=df['amount'].map(lambda x:x*2)\n",
    "print(df)\n",
    "print(\"\\n\")"
   ]
  },
  {
   "cell_type": "code",
   "execution_count": 35,
   "id": "3b11c08f",
   "metadata": {},
   "outputs": [
    {
     "name": "stdout",
     "output_type": "stream",
     "text": [
      "\n",
      " operation of filter to display only subject column \n",
      "\n",
      "  Subject\n",
      "0  python\n",
      "1    java\n"
     ]
    }
   ],
   "source": [
    "print(\"\\n operation of filter to display only subject column \\n\")\n",
    "df2=df.filter(items=['Subject'])\n",
    "print(df2)"
   ]
  },
  {
   "cell_type": "code",
   "execution_count": 36,
   "id": "55dcff9c",
   "metadata": {},
   "outputs": [
    {
     "name": "stdout",
     "output_type": "stream",
     "text": [
      "\n",
      " reduce operation to find total amount \n",
      "\n"
     ]
    },
    {
     "data": {
      "text/plain": [
       "6000"
      ]
     },
     "execution_count": 36,
     "metadata": {},
     "output_type": "execute_result"
    }
   ],
   "source": [
    "print(\"\\n reduce operation to find total amount \\n\")\n",
    "reduce(add,df.amount)"
   ]
  },
  {
   "cell_type": "code",
   "execution_count": null,
   "id": "354ef26b",
   "metadata": {},
   "outputs": [],
   "source": []
  }
 ],
 "metadata": {
  "kernelspec": {
   "display_name": "Python 3 (ipykernel)",
   "language": "python",
   "name": "python3"
  },
  "language_info": {
   "codemirror_mode": {
    "name": "ipython",
    "version": 3
   },
   "file_extension": ".py",
   "mimetype": "text/x-python",
   "name": "python",
   "nbconvert_exporter": "python",
   "pygments_lexer": "ipython3",
   "version": "3.11.4"
  }
 },
 "nbformat": 4,
 "nbformat_minor": 5
}
