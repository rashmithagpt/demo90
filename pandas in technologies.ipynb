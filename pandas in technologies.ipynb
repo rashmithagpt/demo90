{
 "cells": [
  {
   "cell_type": "code",
   "execution_count": 2,
   "id": "aa6c721a",
   "metadata": {},
   "outputs": [
    {
     "name": "stdout",
     "output_type": "stream",
     "text": [
      "  cources    fee duration  discount\n",
      "0  python  20000   30days      1000\n",
      "1    DBMS  25000   40days      2600\n",
      "2    JAVA  26000   35days      1200\n",
      "3  python  22000   60days      2500\n",
      "4   spark  24000   30days      2000\n"
     ]
    }
   ],
   "source": [
    "import pandas as pd\n",
    "technologies={\n",
    "    'cources':['python','DBMS','JAVA','python','spark'],\n",
    "    'fee':[20000,25000,26000,22000,24000],\n",
    "    'duration':['30days','40days','35days','60days','30days'],\n",
    "    'discount':[1000,2600,1200,2500,2000]}\n",
    "df=pd.DataFrame(technologies)\n",
    "print(df)\n"
   ]
  },
  {
   "cell_type": "code",
   "execution_count": null,
   "id": "532be86b",
   "metadata": {},
   "outputs": [],
   "source": []
  }
 ],
 "metadata": {
  "kernelspec": {
   "display_name": "Python 3 (ipykernel)",
   "language": "python",
   "name": "python3"
  },
  "language_info": {
   "codemirror_mode": {
    "name": "ipython",
    "version": 3
   },
   "file_extension": ".py",
   "mimetype": "text/x-python",
   "name": "python",
   "nbconvert_exporter": "python",
   "pygments_lexer": "ipython3",
   "version": "3.11.4"
  }
 },
 "nbformat": 4,
 "nbformat_minor": 5
}
