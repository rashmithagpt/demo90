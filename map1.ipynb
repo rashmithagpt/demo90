{
 "cells": [
  {
   "cell_type": "code",
   "execution_count": 10,
   "id": "c1e620af",
   "metadata": {},
   "outputs": [
    {
     "ename": "IndentationError",
     "evalue": "unindent does not match any outer indentation level (<tokenize>, line 3)",
     "output_type": "error",
     "traceback": [
      "\u001b[1;36m  File \u001b[1;32m<tokenize>:3\u001b[1;36m\u001b[0m\n\u001b[1;33m    fruit=[\"Apple\",\"Banana\",\"Pear\",\"Apricot\",\"Orange\"]\u001b[0m\n\u001b[1;37m    ^\u001b[0m\n\u001b[1;31mIndentationError\u001b[0m\u001b[1;31m:\u001b[0m unindent does not match any outer indentation level\n"
     ]
    }
   ],
   "source": [
    "def Start_with_A(s):\n",
    "      return s[0]=\"A\"\n",
    "    fruit=[\"Apple\",\"Banana\",\"Pear\",\"Apricot\",\"Orange\"]\n",
    "    map_object=map(Start_with_A,fruit)\n",
    "    print(list(map_object))"
   ]
  },
  {
   "cell_type": "code",
   "execution_count": 16,
   "id": "10da1ade",
   "metadata": {},
   "outputs": [
    {
     "name": "stdout",
     "output_type": "stream",
     "text": [
      "[True, False, False, True, False]\n"
     ]
    }
   ],
   "source": [
    "def Start_with_A(s):\n",
    "      return s[0]==\"A\"\n",
    "fruit=[\"Apple\",\"Banana\",\"Pear\",\"Apricot\",\"Orange\"]\n",
    "map_object=map(Start_with_A,fruit)\n",
    "print(list(map_object))"
   ]
  },
  {
   "cell_type": "code",
   "execution_count": null,
   "id": "c98aba03",
   "metadata": {},
   "outputs": [],
   "source": [
    "fruit=[\"Apple\",\"Banana\",\"pear\",\"Apricot\",\"orange\"]\n",
    "map_object=map(lambda s:s[0]==\"A\",fruit)"
   ]
  },
  {
   "cell_type": "code",
   "execution_count": null,
   "id": "38232432",
   "metadata": {},
   "outputs": [],
   "source": []
  }
 ],
 "metadata": {
  "kernelspec": {
   "display_name": "Python 3 (ipykernel)",
   "language": "python",
   "name": "python3"
  },
  "language_info": {
   "codemirror_mode": {
    "name": "ipython",
    "version": 3
   },
   "file_extension": ".py",
   "mimetype": "text/x-python",
   "name": "python",
   "nbconvert_exporter": "python",
   "pygments_lexer": "ipython3",
   "version": "3.11.4"
  }
 },
 "nbformat": 4,
 "nbformat_minor": 5
}
