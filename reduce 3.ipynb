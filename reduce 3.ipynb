{
 "cells": [
  {
   "cell_type": "code",
   "execution_count": 1,
   "id": "4a383226",
   "metadata": {},
   "outputs": [
    {
     "name": "stdout",
     "output_type": "stream",
     "text": [
      "  Subject  amount\n",
      "0  python    1000\n",
      "1    java    2000\n",
      "\n",
      " map operation to multiply amount 2\n",
      "\n",
      "  Subject  amount\n",
      "0  python    2000\n",
      "1    java    4000\n",
      "\n",
      "\n",
      "\n",
      " operation of filter to display only subject column \n",
      "\n",
      "  Subject\n",
      "0  python\n",
      "1    java\n",
      "\n",
      " reduce operation to find total amount \n",
      "\n"
     ]
    },
    {
     "data": {
      "text/plain": [
       "6000"
      ]
     },
     "execution_count": 1,
     "metadata": {},
     "output_type": "execute_result"
    }
   ],
   "source": [
    "import pandas as pd\n",
    "from operator import add\n",
    "from functools import reduce\n",
    "coding={'Subject':['python','java'],'amount':[1000,2000]}\n",
    "df=pd.DataFrame(coding)\n",
    "print(df)\n",
    "print(\"\\n map operation to multiply amount 2\\n\")\n",
    "df['amount']=df['amount'].map(lambda x:x*2)\n",
    "print(df)\n",
    "print(\"\\n\")\n",
    "print(\"\\n operation of filter to display only subject column \\n\")\n",
    "df2=df.filter(items=['Subject'])\n",
    "print(df2)\n",
    "print(\"\\n reduce operation to find total amount \\n\")\n",
    "reduce(add,df.amount)"
   ]
  },
  {
   "cell_type": "code",
   "execution_count": null,
   "id": "fe6e186c",
   "metadata": {},
   "outputs": [],
   "source": []
  }
 ],
 "metadata": {
  "kernelspec": {
   "display_name": "Python 3 (ipykernel)",
   "language": "python",
   "name": "python3"
  },
  "language_info": {
   "codemirror_mode": {
    "name": "ipython",
    "version": 3
   },
   "file_extension": ".py",
   "mimetype": "text/x-python",
   "name": "python",
   "nbconvert_exporter": "python",
   "pygments_lexer": "ipython3",
   "version": "3.11.4"
  }
 },
 "nbformat": 4,
 "nbformat_minor": 5
}
